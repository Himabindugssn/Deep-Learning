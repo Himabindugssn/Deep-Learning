{
  "nbformat": 4,
  "nbformat_minor": 0,
  "metadata": {
    "colab": {
      "name": "MP_Neuron(breast cancer).ipynb",
      "version": "0.3.2",
      "provenance": [],
      "collapsed_sections": []
    },
    "kernelspec": {
      "name": "python3",
      "display_name": "Python 3"
    }
  },
  "cells": [
    {
      "cell_type": "markdown",
      "metadata": {
        "id": "iGlUPbyeQMa4",
        "colab_type": "text"
      },
      "source": [
        "#Loading dataset"
      ]
    },
    {
      "cell_type": "code",
      "metadata": {
        "id": "DVNUbFuqCkZQ",
        "colab_type": "code",
        "colab": {}
      },
      "source": [
        "import sklearn.datasets\n",
        "import numpy as np"
      ],
      "execution_count": 0,
      "outputs": []
    },
    {
      "cell_type": "markdown",
      "metadata": {
        "id": "Ym80GUvfD8YJ",
        "colab_type": "text"
      },
      "source": [
        "sklearn has many datasets and one of them will be used here. \n",
        "numpy -> library."
      ]
    },
    {
      "cell_type": "markdown",
      "metadata": {
        "id": "MukDb8FKLDYS",
        "colab_type": "text"
      },
      "source": [
        "####Loading dataset using numpy"
      ]
    },
    {
      "cell_type": "markdown",
      "metadata": {
        "id": "zudXZ47vLM4F",
        "colab_type": "text"
      },
      "source": [
        "numpy loads dataset as array but pandas loads dataset as a 'dataset'"
      ]
    },
    {
      "cell_type": "code",
      "metadata": {
        "id": "7MGfoRkjD1U1",
        "colab_type": "code",
        "colab": {}
      },
      "source": [
        "breast_cancer=sklearn.datasets.load_breast_cancer()"
      ],
      "execution_count": 0,
      "outputs": []
    },
    {
      "cell_type": "markdown",
      "metadata": {
        "id": "v8qJEwboFvDl",
        "colab_type": "text"
      },
      "source": [
        "give whatever name in lhs , it doesn't matter. A dataset called breast cancer from sklearn is being stored in that lhs."
      ]
    },
    {
      "cell_type": "code",
      "metadata": {
        "id": "CbDFxFF3Ezny",
        "colab_type": "code",
        "outputId": "97c0504a-e176-401d-bd38-b17b4d2eb7de",
        "colab": {
          "base_uri": "https://localhost:8080/",
          "height": 872
        }
      },
      "source": [
        "print(breast_cancer)\n"
      ],
      "execution_count": 3,
      "outputs": [
        {
          "output_type": "stream",
          "text": [
            "{'data': array([[1.799e+01, 1.038e+01, 1.228e+02, ..., 2.654e-01, 4.601e-01,\n",
            "        1.189e-01],\n",
            "       [2.057e+01, 1.777e+01, 1.329e+02, ..., 1.860e-01, 2.750e-01,\n",
            "        8.902e-02],\n",
            "       [1.969e+01, 2.125e+01, 1.300e+02, ..., 2.430e-01, 3.613e-01,\n",
            "        8.758e-02],\n",
            "       ...,\n",
            "       [1.660e+01, 2.808e+01, 1.083e+02, ..., 1.418e-01, 2.218e-01,\n",
            "        7.820e-02],\n",
            "       [2.060e+01, 2.933e+01, 1.401e+02, ..., 2.650e-01, 4.087e-01,\n",
            "        1.240e-01],\n",
            "       [7.760e+00, 2.454e+01, 4.792e+01, ..., 0.000e+00, 2.871e-01,\n",
            "        7.039e-02]]), 'target': array([0, 0, 0, 0, 0, 0, 0, 0, 0, 0, 0, 0, 0, 0, 0, 0, 0, 0, 0, 1, 1, 1,\n",
            "       0, 0, 0, 0, 0, 0, 0, 0, 0, 0, 0, 0, 0, 0, 0, 1, 0, 0, 0, 0, 0, 0,\n",
            "       0, 0, 1, 0, 1, 1, 1, 1, 1, 0, 0, 1, 0, 0, 1, 1, 1, 1, 0, 1, 0, 0,\n",
            "       1, 1, 1, 1, 0, 1, 0, 0, 1, 0, 1, 0, 0, 1, 1, 1, 0, 0, 1, 0, 0, 0,\n",
            "       1, 1, 1, 0, 1, 1, 0, 0, 1, 1, 1, 0, 0, 1, 1, 1, 1, 0, 1, 1, 0, 1,\n",
            "       1, 1, 1, 1, 1, 1, 1, 0, 0, 0, 1, 0, 0, 1, 1, 1, 0, 0, 1, 0, 1, 0,\n",
            "       0, 1, 0, 0, 1, 1, 0, 1, 1, 0, 1, 1, 1, 1, 0, 1, 1, 1, 1, 1, 1, 1,\n",
            "       1, 1, 0, 1, 1, 1, 1, 0, 0, 1, 0, 1, 1, 0, 0, 1, 1, 0, 0, 1, 1, 1,\n",
            "       1, 0, 1, 1, 0, 0, 0, 1, 0, 1, 0, 1, 1, 1, 0, 1, 1, 0, 0, 1, 0, 0,\n",
            "       0, 0, 1, 0, 0, 0, 1, 0, 1, 0, 1, 1, 0, 1, 0, 0, 0, 0, 1, 1, 0, 0,\n",
            "       1, 1, 1, 0, 1, 1, 1, 1, 1, 0, 0, 1, 1, 0, 1, 1, 0, 0, 1, 0, 1, 1,\n",
            "       1, 1, 0, 1, 1, 1, 1, 1, 0, 1, 0, 0, 0, 0, 0, 0, 0, 0, 0, 0, 0, 0,\n",
            "       0, 0, 1, 1, 1, 1, 1, 1, 0, 1, 0, 1, 1, 0, 1, 1, 0, 1, 0, 0, 1, 1,\n",
            "       1, 1, 1, 1, 1, 1, 1, 1, 1, 1, 1, 0, 1, 1, 0, 1, 0, 1, 1, 1, 1, 1,\n",
            "       1, 1, 1, 1, 1, 1, 1, 1, 1, 0, 1, 1, 1, 0, 1, 0, 1, 1, 1, 1, 0, 0,\n",
            "       0, 1, 1, 1, 1, 0, 1, 0, 1, 0, 1, 1, 1, 0, 1, 1, 1, 1, 1, 1, 1, 0,\n",
            "       0, 0, 1, 1, 1, 1, 1, 1, 1, 1, 1, 1, 1, 0, 0, 1, 0, 0, 0, 1, 0, 0,\n",
            "       1, 1, 1, 1, 1, 0, 1, 1, 1, 1, 1, 0, 1, 1, 1, 0, 1, 1, 0, 0, 1, 1,\n",
            "       1, 1, 1, 1, 0, 1, 1, 1, 1, 1, 1, 1, 0, 1, 1, 1, 1, 1, 0, 1, 1, 0,\n",
            "       1, 1, 1, 1, 1, 1, 1, 1, 1, 1, 1, 1, 0, 1, 0, 0, 1, 0, 1, 1, 1, 1,\n",
            "       1, 0, 1, 1, 0, 1, 0, 1, 1, 0, 1, 0, 1, 1, 1, 1, 1, 1, 1, 1, 0, 0,\n",
            "       1, 1, 1, 1, 1, 1, 0, 1, 1, 1, 1, 1, 1, 1, 1, 1, 1, 0, 1, 1, 1, 1,\n",
            "       1, 1, 1, 0, 1, 0, 1, 1, 0, 1, 1, 1, 1, 1, 0, 0, 1, 0, 1, 0, 1, 1,\n",
            "       1, 1, 1, 0, 1, 1, 0, 1, 0, 1, 0, 0, 1, 1, 1, 0, 1, 1, 1, 1, 1, 1,\n",
            "       1, 1, 1, 1, 1, 0, 1, 0, 0, 1, 1, 1, 1, 1, 1, 1, 1, 1, 1, 1, 1, 1,\n",
            "       1, 1, 1, 1, 1, 1, 1, 1, 1, 1, 1, 1, 0, 0, 0, 0, 0, 0, 1]), 'target_names': array(['malignant', 'benign'], dtype='<U9'), 'DESCR': '.. _breast_cancer_dataset:\\n\\nBreast cancer wisconsin (diagnostic) dataset\\n--------------------------------------------\\n\\n**Data Set Characteristics:**\\n\\n    :Number of Instances: 569\\n\\n    :Number of Attributes: 30 numeric, predictive attributes and the class\\n\\n    :Attribute Information:\\n        - radius (mean of distances from center to points on the perimeter)\\n        - texture (standard deviation of gray-scale values)\\n        - perimeter\\n        - area\\n        - smoothness (local variation in radius lengths)\\n        - compactness (perimeter^2 / area - 1.0)\\n        - concavity (severity of concave portions of the contour)\\n        - concave points (number of concave portions of the contour)\\n        - symmetry \\n        - fractal dimension (\"coastline approximation\" - 1)\\n\\n        The mean, standard error, and \"worst\" or largest (mean of the three\\n        largest values) of these features were computed for each image,\\n        resulting in 30 features.  For instance, field 3 is Mean Radius, field\\n        13 is Radius SE, field 23 is Worst Radius.\\n\\n        - class:\\n                - WDBC-Malignant\\n                - WDBC-Benign\\n\\n    :Summary Statistics:\\n\\n    ===================================== ====== ======\\n                                           Min    Max\\n    ===================================== ====== ======\\n    radius (mean):                        6.981  28.11\\n    texture (mean):                       9.71   39.28\\n    perimeter (mean):                     43.79  188.5\\n    area (mean):                          143.5  2501.0\\n    smoothness (mean):                    0.053  0.163\\n    compactness (mean):                   0.019  0.345\\n    concavity (mean):                     0.0    0.427\\n    concave points (mean):                0.0    0.201\\n    symmetry (mean):                      0.106  0.304\\n    fractal dimension (mean):             0.05   0.097\\n    radius (standard error):              0.112  2.873\\n    texture (standard error):             0.36   4.885\\n    perimeter (standard error):           0.757  21.98\\n    area (standard error):                6.802  542.2\\n    smoothness (standard error):          0.002  0.031\\n    compactness (standard error):         0.002  0.135\\n    concavity (standard error):           0.0    0.396\\n    concave points (standard error):      0.0    0.053\\n    symmetry (standard error):            0.008  0.079\\n    fractal dimension (standard error):   0.001  0.03\\n    radius (worst):                       7.93   36.04\\n    texture (worst):                      12.02  49.54\\n    perimeter (worst):                    50.41  251.2\\n    area (worst):                         185.2  4254.0\\n    smoothness (worst):                   0.071  0.223\\n    compactness (worst):                  0.027  1.058\\n    concavity (worst):                    0.0    1.252\\n    concave points (worst):               0.0    0.291\\n    symmetry (worst):                     0.156  0.664\\n    fractal dimension (worst):            0.055  0.208\\n    ===================================== ====== ======\\n\\n    :Missing Attribute Values: None\\n\\n    :Class Distribution: 212 - Malignant, 357 - Benign\\n\\n    :Creator:  Dr. William H. Wolberg, W. Nick Street, Olvi L. Mangasarian\\n\\n    :Donor: Nick Street\\n\\n    :Date: November, 1995\\n\\nThis is a copy of UCI ML Breast Cancer Wisconsin (Diagnostic) datasets.\\nhttps://goo.gl/U2Uwz2\\n\\nFeatures are computed from a digitized image of a fine needle\\naspirate (FNA) of a breast mass.  They describe\\ncharacteristics of the cell nuclei present in the image.\\n\\nSeparating plane described above was obtained using\\nMultisurface Method-Tree (MSM-T) [K. P. Bennett, \"Decision Tree\\nConstruction Via Linear Programming.\" Proceedings of the 4th\\nMidwest Artificial Intelligence and Cognitive Science Society,\\npp. 97-101, 1992], a classification method which uses linear\\nprogramming to construct a decision tree.  Relevant features\\nwere selected using an exhaustive search in the space of 1-4\\nfeatures and 1-3 separating planes.\\n\\nThe actual linear program used to obtain the separating plane\\nin the 3-dimensional space is that described in:\\n[K. P. Bennett and O. L. Mangasarian: \"Robust Linear\\nProgramming Discrimination of Two Linearly Inseparable Sets\",\\nOptimization Methods and Software 1, 1992, 23-34].\\n\\nThis database is also available through the UW CS ftp server:\\n\\nftp ftp.cs.wisc.edu\\ncd math-prog/cpo-dataset/machine-learn/WDBC/\\n\\n.. topic:: References\\n\\n   - W.N. Street, W.H. Wolberg and O.L. Mangasarian. Nuclear feature extraction \\n     for breast tumor diagnosis. IS&T/SPIE 1993 International Symposium on \\n     Electronic Imaging: Science and Technology, volume 1905, pages 861-870,\\n     San Jose, CA, 1993.\\n   - O.L. Mangasarian, W.N. Street and W.H. Wolberg. Breast cancer diagnosis and \\n     prognosis via linear programming. Operations Research, 43(4), pages 570-577, \\n     July-August 1995.\\n   - W.H. Wolberg, W.N. Street, and O.L. Mangasarian. Machine learning techniques\\n     to diagnose breast cancer from fine-needle aspirates. Cancer Letters 77 (1994) \\n     163-171.', 'feature_names': array(['mean radius', 'mean texture', 'mean perimeter', 'mean area',\n",
            "       'mean smoothness', 'mean compactness', 'mean concavity',\n",
            "       'mean concave points', 'mean symmetry', 'mean fractal dimension',\n",
            "       'radius error', 'texture error', 'perimeter error', 'area error',\n",
            "       'smoothness error', 'compactness error', 'concavity error',\n",
            "       'concave points error', 'symmetry error',\n",
            "       'fractal dimension error', 'worst radius', 'worst texture',\n",
            "       'worst perimeter', 'worst area', 'worst smoothness',\n",
            "       'worst compactness', 'worst concavity', 'worst concave points',\n",
            "       'worst symmetry', 'worst fractal dimension'], dtype='<U23'), 'filename': '/usr/local/lib/python3.6/dist-packages/sklearn/datasets/data/breast_cancer.csv'}\n"
          ],
          "name": "stdout"
        }
      ]
    },
    {
      "cell_type": "code",
      "metadata": {
        "id": "e6YIip-GFlXN",
        "colab_type": "code",
        "colab": {}
      },
      "source": [
        "b=breast_cancer"
      ],
      "execution_count": 0,
      "outputs": []
    },
    {
      "cell_type": "code",
      "metadata": {
        "id": "ZsJykSHVGzhy",
        "colab_type": "code",
        "colab": {}
      },
      "source": [
        "x=b.data\n",
        "y=b.target"
      ],
      "execution_count": 0,
      "outputs": []
    },
    {
      "cell_type": "markdown",
      "metadata": {
        "id": "1dEcW6T-ItlA",
        "colab_type": "text"
      },
      "source": [
        "‘data’, the data to learn, ‘target’, the classification labels, ‘target_names’, the meaning of the labels, ‘feature_names’, the meaning of the features\n"
      ]
    },
    {
      "cell_type": "code",
      "metadata": {
        "id": "bIiGvo6JHQgR",
        "colab_type": "code",
        "outputId": "8e091850-1353-4504-b26e-5afceb0a556c",
        "colab": {
          "base_uri": "https://localhost:8080/",
          "height": 34
        }
      },
      "source": [
        "print(x.shape,y.shape)"
      ],
      "execution_count": 6,
      "outputs": [
        {
          "output_type": "stream",
          "text": [
            "(569, 30) (569,)\n"
          ],
          "name": "stdout"
        }
      ]
    },
    {
      "cell_type": "markdown",
      "metadata": {
        "id": "LEvQo6AmLbyf",
        "colab_type": "text"
      },
      "source": [
        "####Loading dataset using pandas"
      ]
    },
    {
      "cell_type": "code",
      "metadata": {
        "id": "rBfilMvqKS36",
        "colab_type": "code",
        "colab": {}
      },
      "source": [
        "import pandas as pd"
      ],
      "execution_count": 0,
      "outputs": []
    },
    {
      "cell_type": "code",
      "metadata": {
        "id": "PBC4mAq0Ln-m",
        "colab_type": "code",
        "colab": {}
      },
      "source": [
        "data=pd.DataFrame(b.data,columns=b.feature_names)"
      ],
      "execution_count": 0,
      "outputs": []
    },
    {
      "cell_type": "code",
      "metadata": {
        "id": "sTFlvWoRL1E6",
        "colab_type": "code",
        "colab": {}
      },
      "source": [
        "data['class']=b.target"
      ],
      "execution_count": 0,
      "outputs": []
    },
    {
      "cell_type": "code",
      "metadata": {
        "id": "KHxOJyORMVjl",
        "colab_type": "code",
        "outputId": "13899604-367e-42f1-bb9e-58d5555184f8",
        "colab": {
          "base_uri": "https://localhost:8080/",
          "height": 1154
        }
      },
      "source": [
        "data.head"
      ],
      "execution_count": 10,
      "outputs": [
        {
          "output_type": "execute_result",
          "data": {
            "text/plain": [
              "<bound method NDFrame.head of      mean radius  mean texture  ...  worst fractal dimension  class\n",
              "0         17.990         10.38  ...                  0.11890      0\n",
              "1         20.570         17.77  ...                  0.08902      0\n",
              "2         19.690         21.25  ...                  0.08758      0\n",
              "3         11.420         20.38  ...                  0.17300      0\n",
              "4         20.290         14.34  ...                  0.07678      0\n",
              "5         12.450         15.70  ...                  0.12440      0\n",
              "6         18.250         19.98  ...                  0.08368      0\n",
              "7         13.710         20.83  ...                  0.11510      0\n",
              "8         13.000         21.82  ...                  0.10720      0\n",
              "9         12.460         24.04  ...                  0.20750      0\n",
              "10        16.020         23.24  ...                  0.08452      0\n",
              "11        15.780         17.89  ...                  0.10480      0\n",
              "12        19.170         24.80  ...                  0.10230      0\n",
              "13        15.850         23.95  ...                  0.06287      0\n",
              "14        13.730         22.61  ...                  0.14310      0\n",
              "15        14.540         27.54  ...                  0.13410      0\n",
              "16        14.680         20.13  ...                  0.08216      0\n",
              "17        16.130         20.68  ...                  0.11420      0\n",
              "18        19.810         22.15  ...                  0.07615      0\n",
              "19        13.540         14.36  ...                  0.07259      1\n",
              "20        13.080         15.71  ...                  0.08183      1\n",
              "21         9.504         12.44  ...                  0.07773      1\n",
              "22        15.340         14.26  ...                  0.09946      0\n",
              "23        21.160         23.04  ...                  0.07526      0\n",
              "24        16.650         21.38  ...                  0.09564      0\n",
              "25        17.140         16.40  ...                  0.10590      0\n",
              "26        14.580         21.53  ...                  0.12750      0\n",
              "27        18.610         20.25  ...                  0.07421      0\n",
              "28        15.300         25.27  ...                  0.09876      0\n",
              "29        17.570         15.05  ...                  0.07919      0\n",
              "..           ...           ...  ...                      ...    ...\n",
              "539        7.691         25.44  ...                  0.10660      1\n",
              "540       11.540         14.44  ...                  0.08134      1\n",
              "541       14.470         24.99  ...                  0.10230      1\n",
              "542       14.740         25.42  ...                  0.06956      1\n",
              "543       13.210         28.06  ...                  0.06443      1\n",
              "544       13.870         20.70  ...                  0.08492      1\n",
              "545       13.620         23.23  ...                  0.06953      1\n",
              "546       10.320         16.35  ...                  0.07399      1\n",
              "547       10.260         16.58  ...                  0.09479      1\n",
              "548        9.683         19.34  ...                  0.07920      1\n",
              "549       10.820         24.21  ...                  0.07626      1\n",
              "550       10.860         21.48  ...                  0.06592      1\n",
              "551       11.130         22.44  ...                  0.08032      1\n",
              "552       12.770         29.43  ...                  0.06484      1\n",
              "553        9.333         21.94  ...                  0.07393      1\n",
              "554       12.880         28.92  ...                  0.07242      1\n",
              "555       10.290         27.61  ...                  0.08283      1\n",
              "556       10.160         19.59  ...                  0.06742      1\n",
              "557        9.423         27.88  ...                  0.06969      1\n",
              "558       14.590         22.68  ...                  0.08004      1\n",
              "559       11.510         23.93  ...                  0.08732      1\n",
              "560       14.050         27.15  ...                  0.08321      1\n",
              "561       11.200         29.37  ...                  0.05905      1\n",
              "562       15.220         30.62  ...                  0.14090      0\n",
              "563       20.920         25.09  ...                  0.09873      0\n",
              "564       21.560         22.39  ...                  0.07115      0\n",
              "565       20.130         28.25  ...                  0.06637      0\n",
              "566       16.600         28.08  ...                  0.07820      0\n",
              "567       20.600         29.33  ...                  0.12400      0\n",
              "568        7.760         24.54  ...                  0.07039      1\n",
              "\n",
              "[569 rows x 31 columns]>"
            ]
          },
          "metadata": {
            "tags": []
          },
          "execution_count": 10
        }
      ]
    },
    {
      "cell_type": "code",
      "metadata": {
        "id": "dSHOTDX-MpHy",
        "colab_type": "code",
        "outputId": "e48fb778-eee2-4d9c-c5e2-4c8f4695f6de",
        "colab": {
          "base_uri": "https://localhost:8080/",
          "height": 251
        }
      },
      "source": [
        "data.head()"
      ],
      "execution_count": 11,
      "outputs": [
        {
          "output_type": "execute_result",
          "data": {
            "text/html": [
              "<div>\n",
              "<style scoped>\n",
              "    .dataframe tbody tr th:only-of-type {\n",
              "        vertical-align: middle;\n",
              "    }\n",
              "\n",
              "    .dataframe tbody tr th {\n",
              "        vertical-align: top;\n",
              "    }\n",
              "\n",
              "    .dataframe thead th {\n",
              "        text-align: right;\n",
              "    }\n",
              "</style>\n",
              "<table border=\"1\" class=\"dataframe\">\n",
              "  <thead>\n",
              "    <tr style=\"text-align: right;\">\n",
              "      <th></th>\n",
              "      <th>mean radius</th>\n",
              "      <th>mean texture</th>\n",
              "      <th>mean perimeter</th>\n",
              "      <th>mean area</th>\n",
              "      <th>mean smoothness</th>\n",
              "      <th>mean compactness</th>\n",
              "      <th>mean concavity</th>\n",
              "      <th>mean concave points</th>\n",
              "      <th>mean symmetry</th>\n",
              "      <th>mean fractal dimension</th>\n",
              "      <th>radius error</th>\n",
              "      <th>texture error</th>\n",
              "      <th>perimeter error</th>\n",
              "      <th>area error</th>\n",
              "      <th>smoothness error</th>\n",
              "      <th>compactness error</th>\n",
              "      <th>concavity error</th>\n",
              "      <th>concave points error</th>\n",
              "      <th>symmetry error</th>\n",
              "      <th>fractal dimension error</th>\n",
              "      <th>worst radius</th>\n",
              "      <th>worst texture</th>\n",
              "      <th>worst perimeter</th>\n",
              "      <th>worst area</th>\n",
              "      <th>worst smoothness</th>\n",
              "      <th>worst compactness</th>\n",
              "      <th>worst concavity</th>\n",
              "      <th>worst concave points</th>\n",
              "      <th>worst symmetry</th>\n",
              "      <th>worst fractal dimension</th>\n",
              "      <th>class</th>\n",
              "    </tr>\n",
              "  </thead>\n",
              "  <tbody>\n",
              "    <tr>\n",
              "      <th>0</th>\n",
              "      <td>17.99</td>\n",
              "      <td>10.38</td>\n",
              "      <td>122.80</td>\n",
              "      <td>1001.0</td>\n",
              "      <td>0.11840</td>\n",
              "      <td>0.27760</td>\n",
              "      <td>0.3001</td>\n",
              "      <td>0.14710</td>\n",
              "      <td>0.2419</td>\n",
              "      <td>0.07871</td>\n",
              "      <td>1.0950</td>\n",
              "      <td>0.9053</td>\n",
              "      <td>8.589</td>\n",
              "      <td>153.40</td>\n",
              "      <td>0.006399</td>\n",
              "      <td>0.04904</td>\n",
              "      <td>0.05373</td>\n",
              "      <td>0.01587</td>\n",
              "      <td>0.03003</td>\n",
              "      <td>0.006193</td>\n",
              "      <td>25.38</td>\n",
              "      <td>17.33</td>\n",
              "      <td>184.60</td>\n",
              "      <td>2019.0</td>\n",
              "      <td>0.1622</td>\n",
              "      <td>0.6656</td>\n",
              "      <td>0.7119</td>\n",
              "      <td>0.2654</td>\n",
              "      <td>0.4601</td>\n",
              "      <td>0.11890</td>\n",
              "      <td>0</td>\n",
              "    </tr>\n",
              "    <tr>\n",
              "      <th>1</th>\n",
              "      <td>20.57</td>\n",
              "      <td>17.77</td>\n",
              "      <td>132.90</td>\n",
              "      <td>1326.0</td>\n",
              "      <td>0.08474</td>\n",
              "      <td>0.07864</td>\n",
              "      <td>0.0869</td>\n",
              "      <td>0.07017</td>\n",
              "      <td>0.1812</td>\n",
              "      <td>0.05667</td>\n",
              "      <td>0.5435</td>\n",
              "      <td>0.7339</td>\n",
              "      <td>3.398</td>\n",
              "      <td>74.08</td>\n",
              "      <td>0.005225</td>\n",
              "      <td>0.01308</td>\n",
              "      <td>0.01860</td>\n",
              "      <td>0.01340</td>\n",
              "      <td>0.01389</td>\n",
              "      <td>0.003532</td>\n",
              "      <td>24.99</td>\n",
              "      <td>23.41</td>\n",
              "      <td>158.80</td>\n",
              "      <td>1956.0</td>\n",
              "      <td>0.1238</td>\n",
              "      <td>0.1866</td>\n",
              "      <td>0.2416</td>\n",
              "      <td>0.1860</td>\n",
              "      <td>0.2750</td>\n",
              "      <td>0.08902</td>\n",
              "      <td>0</td>\n",
              "    </tr>\n",
              "    <tr>\n",
              "      <th>2</th>\n",
              "      <td>19.69</td>\n",
              "      <td>21.25</td>\n",
              "      <td>130.00</td>\n",
              "      <td>1203.0</td>\n",
              "      <td>0.10960</td>\n",
              "      <td>0.15990</td>\n",
              "      <td>0.1974</td>\n",
              "      <td>0.12790</td>\n",
              "      <td>0.2069</td>\n",
              "      <td>0.05999</td>\n",
              "      <td>0.7456</td>\n",
              "      <td>0.7869</td>\n",
              "      <td>4.585</td>\n",
              "      <td>94.03</td>\n",
              "      <td>0.006150</td>\n",
              "      <td>0.04006</td>\n",
              "      <td>0.03832</td>\n",
              "      <td>0.02058</td>\n",
              "      <td>0.02250</td>\n",
              "      <td>0.004571</td>\n",
              "      <td>23.57</td>\n",
              "      <td>25.53</td>\n",
              "      <td>152.50</td>\n",
              "      <td>1709.0</td>\n",
              "      <td>0.1444</td>\n",
              "      <td>0.4245</td>\n",
              "      <td>0.4504</td>\n",
              "      <td>0.2430</td>\n",
              "      <td>0.3613</td>\n",
              "      <td>0.08758</td>\n",
              "      <td>0</td>\n",
              "    </tr>\n",
              "    <tr>\n",
              "      <th>3</th>\n",
              "      <td>11.42</td>\n",
              "      <td>20.38</td>\n",
              "      <td>77.58</td>\n",
              "      <td>386.1</td>\n",
              "      <td>0.14250</td>\n",
              "      <td>0.28390</td>\n",
              "      <td>0.2414</td>\n",
              "      <td>0.10520</td>\n",
              "      <td>0.2597</td>\n",
              "      <td>0.09744</td>\n",
              "      <td>0.4956</td>\n",
              "      <td>1.1560</td>\n",
              "      <td>3.445</td>\n",
              "      <td>27.23</td>\n",
              "      <td>0.009110</td>\n",
              "      <td>0.07458</td>\n",
              "      <td>0.05661</td>\n",
              "      <td>0.01867</td>\n",
              "      <td>0.05963</td>\n",
              "      <td>0.009208</td>\n",
              "      <td>14.91</td>\n",
              "      <td>26.50</td>\n",
              "      <td>98.87</td>\n",
              "      <td>567.7</td>\n",
              "      <td>0.2098</td>\n",
              "      <td>0.8663</td>\n",
              "      <td>0.6869</td>\n",
              "      <td>0.2575</td>\n",
              "      <td>0.6638</td>\n",
              "      <td>0.17300</td>\n",
              "      <td>0</td>\n",
              "    </tr>\n",
              "    <tr>\n",
              "      <th>4</th>\n",
              "      <td>20.29</td>\n",
              "      <td>14.34</td>\n",
              "      <td>135.10</td>\n",
              "      <td>1297.0</td>\n",
              "      <td>0.10030</td>\n",
              "      <td>0.13280</td>\n",
              "      <td>0.1980</td>\n",
              "      <td>0.10430</td>\n",
              "      <td>0.1809</td>\n",
              "      <td>0.05883</td>\n",
              "      <td>0.7572</td>\n",
              "      <td>0.7813</td>\n",
              "      <td>5.438</td>\n",
              "      <td>94.44</td>\n",
              "      <td>0.011490</td>\n",
              "      <td>0.02461</td>\n",
              "      <td>0.05688</td>\n",
              "      <td>0.01885</td>\n",
              "      <td>0.01756</td>\n",
              "      <td>0.005115</td>\n",
              "      <td>22.54</td>\n",
              "      <td>16.67</td>\n",
              "      <td>152.20</td>\n",
              "      <td>1575.0</td>\n",
              "      <td>0.1374</td>\n",
              "      <td>0.2050</td>\n",
              "      <td>0.4000</td>\n",
              "      <td>0.1625</td>\n",
              "      <td>0.2364</td>\n",
              "      <td>0.07678</td>\n",
              "      <td>0</td>\n",
              "    </tr>\n",
              "  </tbody>\n",
              "</table>\n",
              "</div>"
            ],
            "text/plain": [
              "   mean radius  mean texture  ...  worst fractal dimension  class\n",
              "0        17.99         10.38  ...                  0.11890      0\n",
              "1        20.57         17.77  ...                  0.08902      0\n",
              "2        19.69         21.25  ...                  0.08758      0\n",
              "3        11.42         20.38  ...                  0.17300      0\n",
              "4        20.29         14.34  ...                  0.07678      0\n",
              "\n",
              "[5 rows x 31 columns]"
            ]
          },
          "metadata": {
            "tags": []
          },
          "execution_count": 11
        }
      ]
    },
    {
      "cell_type": "code",
      "metadata": {
        "id": "2V0mapd4MtEm",
        "colab_type": "code",
        "outputId": "a3516461-51b5-4d07-de5a-da82a13d8210",
        "colab": {
          "base_uri": "https://localhost:8080/",
          "height": 341
        }
      },
      "source": [
        "data.describe()"
      ],
      "execution_count": 12,
      "outputs": [
        {
          "output_type": "execute_result",
          "data": {
            "text/html": [
              "<div>\n",
              "<style scoped>\n",
              "    .dataframe tbody tr th:only-of-type {\n",
              "        vertical-align: middle;\n",
              "    }\n",
              "\n",
              "    .dataframe tbody tr th {\n",
              "        vertical-align: top;\n",
              "    }\n",
              "\n",
              "    .dataframe thead th {\n",
              "        text-align: right;\n",
              "    }\n",
              "</style>\n",
              "<table border=\"1\" class=\"dataframe\">\n",
              "  <thead>\n",
              "    <tr style=\"text-align: right;\">\n",
              "      <th></th>\n",
              "      <th>mean radius</th>\n",
              "      <th>mean texture</th>\n",
              "      <th>mean perimeter</th>\n",
              "      <th>mean area</th>\n",
              "      <th>mean smoothness</th>\n",
              "      <th>mean compactness</th>\n",
              "      <th>mean concavity</th>\n",
              "      <th>mean concave points</th>\n",
              "      <th>mean symmetry</th>\n",
              "      <th>mean fractal dimension</th>\n",
              "      <th>radius error</th>\n",
              "      <th>texture error</th>\n",
              "      <th>perimeter error</th>\n",
              "      <th>area error</th>\n",
              "      <th>smoothness error</th>\n",
              "      <th>compactness error</th>\n",
              "      <th>concavity error</th>\n",
              "      <th>concave points error</th>\n",
              "      <th>symmetry error</th>\n",
              "      <th>fractal dimension error</th>\n",
              "      <th>worst radius</th>\n",
              "      <th>worst texture</th>\n",
              "      <th>worst perimeter</th>\n",
              "      <th>worst area</th>\n",
              "      <th>worst smoothness</th>\n",
              "      <th>worst compactness</th>\n",
              "      <th>worst concavity</th>\n",
              "      <th>worst concave points</th>\n",
              "      <th>worst symmetry</th>\n",
              "      <th>worst fractal dimension</th>\n",
              "      <th>class</th>\n",
              "    </tr>\n",
              "  </thead>\n",
              "  <tbody>\n",
              "    <tr>\n",
              "      <th>count</th>\n",
              "      <td>569.000000</td>\n",
              "      <td>569.000000</td>\n",
              "      <td>569.000000</td>\n",
              "      <td>569.000000</td>\n",
              "      <td>569.000000</td>\n",
              "      <td>569.000000</td>\n",
              "      <td>569.000000</td>\n",
              "      <td>569.000000</td>\n",
              "      <td>569.000000</td>\n",
              "      <td>569.000000</td>\n",
              "      <td>569.000000</td>\n",
              "      <td>569.000000</td>\n",
              "      <td>569.000000</td>\n",
              "      <td>569.000000</td>\n",
              "      <td>569.000000</td>\n",
              "      <td>569.000000</td>\n",
              "      <td>569.000000</td>\n",
              "      <td>569.000000</td>\n",
              "      <td>569.000000</td>\n",
              "      <td>569.000000</td>\n",
              "      <td>569.000000</td>\n",
              "      <td>569.000000</td>\n",
              "      <td>569.000000</td>\n",
              "      <td>569.000000</td>\n",
              "      <td>569.000000</td>\n",
              "      <td>569.000000</td>\n",
              "      <td>569.000000</td>\n",
              "      <td>569.000000</td>\n",
              "      <td>569.000000</td>\n",
              "      <td>569.000000</td>\n",
              "      <td>569.000000</td>\n",
              "    </tr>\n",
              "    <tr>\n",
              "      <th>mean</th>\n",
              "      <td>14.127292</td>\n",
              "      <td>19.289649</td>\n",
              "      <td>91.969033</td>\n",
              "      <td>654.889104</td>\n",
              "      <td>0.096360</td>\n",
              "      <td>0.104341</td>\n",
              "      <td>0.088799</td>\n",
              "      <td>0.048919</td>\n",
              "      <td>0.181162</td>\n",
              "      <td>0.062798</td>\n",
              "      <td>0.405172</td>\n",
              "      <td>1.216853</td>\n",
              "      <td>2.866059</td>\n",
              "      <td>40.337079</td>\n",
              "      <td>0.007041</td>\n",
              "      <td>0.025478</td>\n",
              "      <td>0.031894</td>\n",
              "      <td>0.011796</td>\n",
              "      <td>0.020542</td>\n",
              "      <td>0.003795</td>\n",
              "      <td>16.269190</td>\n",
              "      <td>25.677223</td>\n",
              "      <td>107.261213</td>\n",
              "      <td>880.583128</td>\n",
              "      <td>0.132369</td>\n",
              "      <td>0.254265</td>\n",
              "      <td>0.272188</td>\n",
              "      <td>0.114606</td>\n",
              "      <td>0.290076</td>\n",
              "      <td>0.083946</td>\n",
              "      <td>0.627417</td>\n",
              "    </tr>\n",
              "    <tr>\n",
              "      <th>std</th>\n",
              "      <td>3.524049</td>\n",
              "      <td>4.301036</td>\n",
              "      <td>24.298981</td>\n",
              "      <td>351.914129</td>\n",
              "      <td>0.014064</td>\n",
              "      <td>0.052813</td>\n",
              "      <td>0.079720</td>\n",
              "      <td>0.038803</td>\n",
              "      <td>0.027414</td>\n",
              "      <td>0.007060</td>\n",
              "      <td>0.277313</td>\n",
              "      <td>0.551648</td>\n",
              "      <td>2.021855</td>\n",
              "      <td>45.491006</td>\n",
              "      <td>0.003003</td>\n",
              "      <td>0.017908</td>\n",
              "      <td>0.030186</td>\n",
              "      <td>0.006170</td>\n",
              "      <td>0.008266</td>\n",
              "      <td>0.002646</td>\n",
              "      <td>4.833242</td>\n",
              "      <td>6.146258</td>\n",
              "      <td>33.602542</td>\n",
              "      <td>569.356993</td>\n",
              "      <td>0.022832</td>\n",
              "      <td>0.157336</td>\n",
              "      <td>0.208624</td>\n",
              "      <td>0.065732</td>\n",
              "      <td>0.061867</td>\n",
              "      <td>0.018061</td>\n",
              "      <td>0.483918</td>\n",
              "    </tr>\n",
              "    <tr>\n",
              "      <th>min</th>\n",
              "      <td>6.981000</td>\n",
              "      <td>9.710000</td>\n",
              "      <td>43.790000</td>\n",
              "      <td>143.500000</td>\n",
              "      <td>0.052630</td>\n",
              "      <td>0.019380</td>\n",
              "      <td>0.000000</td>\n",
              "      <td>0.000000</td>\n",
              "      <td>0.106000</td>\n",
              "      <td>0.049960</td>\n",
              "      <td>0.111500</td>\n",
              "      <td>0.360200</td>\n",
              "      <td>0.757000</td>\n",
              "      <td>6.802000</td>\n",
              "      <td>0.001713</td>\n",
              "      <td>0.002252</td>\n",
              "      <td>0.000000</td>\n",
              "      <td>0.000000</td>\n",
              "      <td>0.007882</td>\n",
              "      <td>0.000895</td>\n",
              "      <td>7.930000</td>\n",
              "      <td>12.020000</td>\n",
              "      <td>50.410000</td>\n",
              "      <td>185.200000</td>\n",
              "      <td>0.071170</td>\n",
              "      <td>0.027290</td>\n",
              "      <td>0.000000</td>\n",
              "      <td>0.000000</td>\n",
              "      <td>0.156500</td>\n",
              "      <td>0.055040</td>\n",
              "      <td>0.000000</td>\n",
              "    </tr>\n",
              "    <tr>\n",
              "      <th>25%</th>\n",
              "      <td>11.700000</td>\n",
              "      <td>16.170000</td>\n",
              "      <td>75.170000</td>\n",
              "      <td>420.300000</td>\n",
              "      <td>0.086370</td>\n",
              "      <td>0.064920</td>\n",
              "      <td>0.029560</td>\n",
              "      <td>0.020310</td>\n",
              "      <td>0.161900</td>\n",
              "      <td>0.057700</td>\n",
              "      <td>0.232400</td>\n",
              "      <td>0.833900</td>\n",
              "      <td>1.606000</td>\n",
              "      <td>17.850000</td>\n",
              "      <td>0.005169</td>\n",
              "      <td>0.013080</td>\n",
              "      <td>0.015090</td>\n",
              "      <td>0.007638</td>\n",
              "      <td>0.015160</td>\n",
              "      <td>0.002248</td>\n",
              "      <td>13.010000</td>\n",
              "      <td>21.080000</td>\n",
              "      <td>84.110000</td>\n",
              "      <td>515.300000</td>\n",
              "      <td>0.116600</td>\n",
              "      <td>0.147200</td>\n",
              "      <td>0.114500</td>\n",
              "      <td>0.064930</td>\n",
              "      <td>0.250400</td>\n",
              "      <td>0.071460</td>\n",
              "      <td>0.000000</td>\n",
              "    </tr>\n",
              "    <tr>\n",
              "      <th>50%</th>\n",
              "      <td>13.370000</td>\n",
              "      <td>18.840000</td>\n",
              "      <td>86.240000</td>\n",
              "      <td>551.100000</td>\n",
              "      <td>0.095870</td>\n",
              "      <td>0.092630</td>\n",
              "      <td>0.061540</td>\n",
              "      <td>0.033500</td>\n",
              "      <td>0.179200</td>\n",
              "      <td>0.061540</td>\n",
              "      <td>0.324200</td>\n",
              "      <td>1.108000</td>\n",
              "      <td>2.287000</td>\n",
              "      <td>24.530000</td>\n",
              "      <td>0.006380</td>\n",
              "      <td>0.020450</td>\n",
              "      <td>0.025890</td>\n",
              "      <td>0.010930</td>\n",
              "      <td>0.018730</td>\n",
              "      <td>0.003187</td>\n",
              "      <td>14.970000</td>\n",
              "      <td>25.410000</td>\n",
              "      <td>97.660000</td>\n",
              "      <td>686.500000</td>\n",
              "      <td>0.131300</td>\n",
              "      <td>0.211900</td>\n",
              "      <td>0.226700</td>\n",
              "      <td>0.099930</td>\n",
              "      <td>0.282200</td>\n",
              "      <td>0.080040</td>\n",
              "      <td>1.000000</td>\n",
              "    </tr>\n",
              "    <tr>\n",
              "      <th>75%</th>\n",
              "      <td>15.780000</td>\n",
              "      <td>21.800000</td>\n",
              "      <td>104.100000</td>\n",
              "      <td>782.700000</td>\n",
              "      <td>0.105300</td>\n",
              "      <td>0.130400</td>\n",
              "      <td>0.130700</td>\n",
              "      <td>0.074000</td>\n",
              "      <td>0.195700</td>\n",
              "      <td>0.066120</td>\n",
              "      <td>0.478900</td>\n",
              "      <td>1.474000</td>\n",
              "      <td>3.357000</td>\n",
              "      <td>45.190000</td>\n",
              "      <td>0.008146</td>\n",
              "      <td>0.032450</td>\n",
              "      <td>0.042050</td>\n",
              "      <td>0.014710</td>\n",
              "      <td>0.023480</td>\n",
              "      <td>0.004558</td>\n",
              "      <td>18.790000</td>\n",
              "      <td>29.720000</td>\n",
              "      <td>125.400000</td>\n",
              "      <td>1084.000000</td>\n",
              "      <td>0.146000</td>\n",
              "      <td>0.339100</td>\n",
              "      <td>0.382900</td>\n",
              "      <td>0.161400</td>\n",
              "      <td>0.317900</td>\n",
              "      <td>0.092080</td>\n",
              "      <td>1.000000</td>\n",
              "    </tr>\n",
              "    <tr>\n",
              "      <th>max</th>\n",
              "      <td>28.110000</td>\n",
              "      <td>39.280000</td>\n",
              "      <td>188.500000</td>\n",
              "      <td>2501.000000</td>\n",
              "      <td>0.163400</td>\n",
              "      <td>0.345400</td>\n",
              "      <td>0.426800</td>\n",
              "      <td>0.201200</td>\n",
              "      <td>0.304000</td>\n",
              "      <td>0.097440</td>\n",
              "      <td>2.873000</td>\n",
              "      <td>4.885000</td>\n",
              "      <td>21.980000</td>\n",
              "      <td>542.200000</td>\n",
              "      <td>0.031130</td>\n",
              "      <td>0.135400</td>\n",
              "      <td>0.396000</td>\n",
              "      <td>0.052790</td>\n",
              "      <td>0.078950</td>\n",
              "      <td>0.029840</td>\n",
              "      <td>36.040000</td>\n",
              "      <td>49.540000</td>\n",
              "      <td>251.200000</td>\n",
              "      <td>4254.000000</td>\n",
              "      <td>0.222600</td>\n",
              "      <td>1.058000</td>\n",
              "      <td>1.252000</td>\n",
              "      <td>0.291000</td>\n",
              "      <td>0.663800</td>\n",
              "      <td>0.207500</td>\n",
              "      <td>1.000000</td>\n",
              "    </tr>\n",
              "  </tbody>\n",
              "</table>\n",
              "</div>"
            ],
            "text/plain": [
              "       mean radius  mean texture  ...  worst fractal dimension       class\n",
              "count   569.000000    569.000000  ...               569.000000  569.000000\n",
              "mean     14.127292     19.289649  ...                 0.083946    0.627417\n",
              "std       3.524049      4.301036  ...                 0.018061    0.483918\n",
              "min       6.981000      9.710000  ...                 0.055040    0.000000\n",
              "25%      11.700000     16.170000  ...                 0.071460    0.000000\n",
              "50%      13.370000     18.840000  ...                 0.080040    1.000000\n",
              "75%      15.780000     21.800000  ...                 0.092080    1.000000\n",
              "max      28.110000     39.280000  ...                 0.207500    1.000000\n",
              "\n",
              "[8 rows x 31 columns]"
            ]
          },
          "metadata": {
            "tags": []
          },
          "execution_count": 12
        }
      ]
    },
    {
      "cell_type": "code",
      "metadata": {
        "id": "U6sVQDsMM7e1",
        "colab_type": "code",
        "outputId": "28b09923-22b2-47bf-993a-17ccb2e25af3",
        "colab": {
          "base_uri": "https://localhost:8080/",
          "height": 1154
        }
      },
      "source": [
        "data.describe"
      ],
      "execution_count": 13,
      "outputs": [
        {
          "output_type": "execute_result",
          "data": {
            "text/plain": [
              "<bound method NDFrame.describe of      mean radius  mean texture  ...  worst fractal dimension  class\n",
              "0         17.990         10.38  ...                  0.11890      0\n",
              "1         20.570         17.77  ...                  0.08902      0\n",
              "2         19.690         21.25  ...                  0.08758      0\n",
              "3         11.420         20.38  ...                  0.17300      0\n",
              "4         20.290         14.34  ...                  0.07678      0\n",
              "5         12.450         15.70  ...                  0.12440      0\n",
              "6         18.250         19.98  ...                  0.08368      0\n",
              "7         13.710         20.83  ...                  0.11510      0\n",
              "8         13.000         21.82  ...                  0.10720      0\n",
              "9         12.460         24.04  ...                  0.20750      0\n",
              "10        16.020         23.24  ...                  0.08452      0\n",
              "11        15.780         17.89  ...                  0.10480      0\n",
              "12        19.170         24.80  ...                  0.10230      0\n",
              "13        15.850         23.95  ...                  0.06287      0\n",
              "14        13.730         22.61  ...                  0.14310      0\n",
              "15        14.540         27.54  ...                  0.13410      0\n",
              "16        14.680         20.13  ...                  0.08216      0\n",
              "17        16.130         20.68  ...                  0.11420      0\n",
              "18        19.810         22.15  ...                  0.07615      0\n",
              "19        13.540         14.36  ...                  0.07259      1\n",
              "20        13.080         15.71  ...                  0.08183      1\n",
              "21         9.504         12.44  ...                  0.07773      1\n",
              "22        15.340         14.26  ...                  0.09946      0\n",
              "23        21.160         23.04  ...                  0.07526      0\n",
              "24        16.650         21.38  ...                  0.09564      0\n",
              "25        17.140         16.40  ...                  0.10590      0\n",
              "26        14.580         21.53  ...                  0.12750      0\n",
              "27        18.610         20.25  ...                  0.07421      0\n",
              "28        15.300         25.27  ...                  0.09876      0\n",
              "29        17.570         15.05  ...                  0.07919      0\n",
              "..           ...           ...  ...                      ...    ...\n",
              "539        7.691         25.44  ...                  0.10660      1\n",
              "540       11.540         14.44  ...                  0.08134      1\n",
              "541       14.470         24.99  ...                  0.10230      1\n",
              "542       14.740         25.42  ...                  0.06956      1\n",
              "543       13.210         28.06  ...                  0.06443      1\n",
              "544       13.870         20.70  ...                  0.08492      1\n",
              "545       13.620         23.23  ...                  0.06953      1\n",
              "546       10.320         16.35  ...                  0.07399      1\n",
              "547       10.260         16.58  ...                  0.09479      1\n",
              "548        9.683         19.34  ...                  0.07920      1\n",
              "549       10.820         24.21  ...                  0.07626      1\n",
              "550       10.860         21.48  ...                  0.06592      1\n",
              "551       11.130         22.44  ...                  0.08032      1\n",
              "552       12.770         29.43  ...                  0.06484      1\n",
              "553        9.333         21.94  ...                  0.07393      1\n",
              "554       12.880         28.92  ...                  0.07242      1\n",
              "555       10.290         27.61  ...                  0.08283      1\n",
              "556       10.160         19.59  ...                  0.06742      1\n",
              "557        9.423         27.88  ...                  0.06969      1\n",
              "558       14.590         22.68  ...                  0.08004      1\n",
              "559       11.510         23.93  ...                  0.08732      1\n",
              "560       14.050         27.15  ...                  0.08321      1\n",
              "561       11.200         29.37  ...                  0.05905      1\n",
              "562       15.220         30.62  ...                  0.14090      0\n",
              "563       20.920         25.09  ...                  0.09873      0\n",
              "564       21.560         22.39  ...                  0.07115      0\n",
              "565       20.130         28.25  ...                  0.06637      0\n",
              "566       16.600         28.08  ...                  0.07820      0\n",
              "567       20.600         29.33  ...                  0.12400      0\n",
              "568        7.760         24.54  ...                  0.07039      1\n",
              "\n",
              "[569 rows x 31 columns]>"
            ]
          },
          "metadata": {
            "tags": []
          },
          "execution_count": 13
        }
      ]
    },
    {
      "cell_type": "markdown",
      "metadata": {
        "id": "WhYluyYhNJib",
        "colab_type": "text"
      },
      "source": [
        "better to use '()' !!"
      ]
    },
    {
      "cell_type": "code",
      "metadata": {
        "id": "DB6qKp_fNEo0",
        "colab_type": "code",
        "outputId": "fd0d4836-4439-4bd5-a52c-531e241a4e5b",
        "colab": {
          "base_uri": "https://localhost:8080/",
          "height": 70
        }
      },
      "source": [
        "print(data['class'].value_counts())"
      ],
      "execution_count": 14,
      "outputs": [
        {
          "output_type": "stream",
          "text": [
            "1    357\n",
            "0    212\n",
            "Name: class, dtype: int64\n"
          ],
          "name": "stdout"
        }
      ]
    },
    {
      "cell_type": "markdown",
      "metadata": {
        "id": "YzAOOkCrPIoN",
        "colab_type": "text"
      },
      "source": [
        "to know what 1 and 0 denote, just see the label names"
      ]
    },
    {
      "cell_type": "code",
      "metadata": {
        "id": "XySl48mkO3j6",
        "colab_type": "code",
        "outputId": "0cb5edcc-7ffa-4f80-e181-8368d7d35272",
        "colab": {
          "base_uri": "https://localhost:8080/",
          "height": 34
        }
      },
      "source": [
        "print(b.target_names)"
      ],
      "execution_count": 15,
      "outputs": [
        {
          "output_type": "stream",
          "text": [
            "['malignant' 'benign']\n"
          ],
          "name": "stdout"
        }
      ]
    },
    {
      "cell_type": "markdown",
      "metadata": {
        "id": "fdmqAyRLPUxp",
        "colab_type": "text"
      },
      "source": [
        "1- mal=have cancer "
      ]
    },
    {
      "cell_type": "code",
      "metadata": {
        "id": "0LsCtTQZPSKy",
        "colab_type": "code",
        "outputId": "4c5b87b2-313e-4b0e-8bb6-658e1e45500c",
        "colab": {
          "base_uri": "https://localhost:8080/",
          "height": 191
        }
      },
      "source": [
        "data.groupby('class').mean()"
      ],
      "execution_count": 16,
      "outputs": [
        {
          "output_type": "execute_result",
          "data": {
            "text/html": [
              "<div>\n",
              "<style scoped>\n",
              "    .dataframe tbody tr th:only-of-type {\n",
              "        vertical-align: middle;\n",
              "    }\n",
              "\n",
              "    .dataframe tbody tr th {\n",
              "        vertical-align: top;\n",
              "    }\n",
              "\n",
              "    .dataframe thead th {\n",
              "        text-align: right;\n",
              "    }\n",
              "</style>\n",
              "<table border=\"1\" class=\"dataframe\">\n",
              "  <thead>\n",
              "    <tr style=\"text-align: right;\">\n",
              "      <th></th>\n",
              "      <th>mean radius</th>\n",
              "      <th>mean texture</th>\n",
              "      <th>mean perimeter</th>\n",
              "      <th>mean area</th>\n",
              "      <th>mean smoothness</th>\n",
              "      <th>mean compactness</th>\n",
              "      <th>mean concavity</th>\n",
              "      <th>mean concave points</th>\n",
              "      <th>mean symmetry</th>\n",
              "      <th>mean fractal dimension</th>\n",
              "      <th>radius error</th>\n",
              "      <th>texture error</th>\n",
              "      <th>perimeter error</th>\n",
              "      <th>area error</th>\n",
              "      <th>smoothness error</th>\n",
              "      <th>compactness error</th>\n",
              "      <th>concavity error</th>\n",
              "      <th>concave points error</th>\n",
              "      <th>symmetry error</th>\n",
              "      <th>fractal dimension error</th>\n",
              "      <th>worst radius</th>\n",
              "      <th>worst texture</th>\n",
              "      <th>worst perimeter</th>\n",
              "      <th>worst area</th>\n",
              "      <th>worst smoothness</th>\n",
              "      <th>worst compactness</th>\n",
              "      <th>worst concavity</th>\n",
              "      <th>worst concave points</th>\n",
              "      <th>worst symmetry</th>\n",
              "      <th>worst fractal dimension</th>\n",
              "    </tr>\n",
              "    <tr>\n",
              "      <th>class</th>\n",
              "      <th></th>\n",
              "      <th></th>\n",
              "      <th></th>\n",
              "      <th></th>\n",
              "      <th></th>\n",
              "      <th></th>\n",
              "      <th></th>\n",
              "      <th></th>\n",
              "      <th></th>\n",
              "      <th></th>\n",
              "      <th></th>\n",
              "      <th></th>\n",
              "      <th></th>\n",
              "      <th></th>\n",
              "      <th></th>\n",
              "      <th></th>\n",
              "      <th></th>\n",
              "      <th></th>\n",
              "      <th></th>\n",
              "      <th></th>\n",
              "      <th></th>\n",
              "      <th></th>\n",
              "      <th></th>\n",
              "      <th></th>\n",
              "      <th></th>\n",
              "      <th></th>\n",
              "      <th></th>\n",
              "      <th></th>\n",
              "      <th></th>\n",
              "      <th></th>\n",
              "    </tr>\n",
              "  </thead>\n",
              "  <tbody>\n",
              "    <tr>\n",
              "      <th>0</th>\n",
              "      <td>17.462830</td>\n",
              "      <td>21.604906</td>\n",
              "      <td>115.365377</td>\n",
              "      <td>978.376415</td>\n",
              "      <td>0.102898</td>\n",
              "      <td>0.145188</td>\n",
              "      <td>0.160775</td>\n",
              "      <td>0.087990</td>\n",
              "      <td>0.192909</td>\n",
              "      <td>0.062680</td>\n",
              "      <td>0.609083</td>\n",
              "      <td>1.210915</td>\n",
              "      <td>4.323929</td>\n",
              "      <td>72.672406</td>\n",
              "      <td>0.006780</td>\n",
              "      <td>0.032281</td>\n",
              "      <td>0.041824</td>\n",
              "      <td>0.015060</td>\n",
              "      <td>0.020472</td>\n",
              "      <td>0.004062</td>\n",
              "      <td>21.134811</td>\n",
              "      <td>29.318208</td>\n",
              "      <td>141.370330</td>\n",
              "      <td>1422.286321</td>\n",
              "      <td>0.144845</td>\n",
              "      <td>0.374824</td>\n",
              "      <td>0.450606</td>\n",
              "      <td>0.182237</td>\n",
              "      <td>0.323468</td>\n",
              "      <td>0.091530</td>\n",
              "    </tr>\n",
              "    <tr>\n",
              "      <th>1</th>\n",
              "      <td>12.146524</td>\n",
              "      <td>17.914762</td>\n",
              "      <td>78.075406</td>\n",
              "      <td>462.790196</td>\n",
              "      <td>0.092478</td>\n",
              "      <td>0.080085</td>\n",
              "      <td>0.046058</td>\n",
              "      <td>0.025717</td>\n",
              "      <td>0.174186</td>\n",
              "      <td>0.062867</td>\n",
              "      <td>0.284082</td>\n",
              "      <td>1.220380</td>\n",
              "      <td>2.000321</td>\n",
              "      <td>21.135148</td>\n",
              "      <td>0.007196</td>\n",
              "      <td>0.021438</td>\n",
              "      <td>0.025997</td>\n",
              "      <td>0.009858</td>\n",
              "      <td>0.020584</td>\n",
              "      <td>0.003636</td>\n",
              "      <td>13.379801</td>\n",
              "      <td>23.515070</td>\n",
              "      <td>87.005938</td>\n",
              "      <td>558.899440</td>\n",
              "      <td>0.124959</td>\n",
              "      <td>0.182673</td>\n",
              "      <td>0.166238</td>\n",
              "      <td>0.074444</td>\n",
              "      <td>0.270246</td>\n",
              "      <td>0.079442</td>\n",
              "    </tr>\n",
              "  </tbody>\n",
              "</table>\n",
              "</div>"
            ],
            "text/plain": [
              "       mean radius  mean texture  ...  worst symmetry  worst fractal dimension\n",
              "class                             ...                                         \n",
              "0        17.462830     21.604906  ...        0.323468                 0.091530\n",
              "1        12.146524     17.914762  ...        0.270246                 0.079442\n",
              "\n",
              "[2 rows x 30 columns]"
            ]
          },
          "metadata": {
            "tags": []
          },
          "execution_count": 16
        }
      ]
    },
    {
      "cell_type": "markdown",
      "metadata": {
        "id": "cb9sM8KxPnCw",
        "colab_type": "text"
      },
      "source": [
        "this groups classe 0,1 and then since mean() has been mentioned it shows mean value of all features\n",
        "for eg: mean of all the radius of various samples  is shown in mean radius"
      ]
    },
    {
      "cell_type": "code",
      "metadata": {
        "id": "ldPLszTIPlvU",
        "colab_type": "code",
        "colab": {}
      },
      "source": [
        ""
      ],
      "execution_count": 0,
      "outputs": []
    },
    {
      "cell_type": "markdown",
      "metadata": {
        "id": "gS3QqGXUQQ81",
        "colab_type": "text"
      },
      "source": [
        "#Train test split"
      ]
    },
    {
      "cell_type": "code",
      "metadata": {
        "id": "nmDMb7GxQWEg",
        "colab_type": "code",
        "colab": {}
      },
      "source": [
        "from sklearn.model_selection import train_test_split"
      ],
      "execution_count": 0,
      "outputs": []
    },
    {
      "cell_type": "markdown",
      "metadata": {
        "id": "A9wri90FRDjx",
        "colab_type": "text"
      },
      "source": [
        "class(malignent/benign) from the data is removed and placed in a separate column. since it's column we say axis=1(for row axis=0)"
      ]
    },
    {
      "cell_type": "code",
      "metadata": {
        "id": "7jX3YwwZQ8Sv",
        "colab_type": "code",
        "colab": {}
      },
      "source": [
        "a=data.drop('class',axis=1)\n",
        "b=data['class']"
      ],
      "execution_count": 0,
      "outputs": []
    },
    {
      "cell_type": "code",
      "metadata": {
        "id": "xBysXd-2RjOx",
        "colab_type": "code",
        "colab": {}
      },
      "source": [
        "a_train,a_test,b_train,b_test=train_test_split(a,b)"
      ],
      "execution_count": 0,
      "outputs": []
    },
    {
      "cell_type": "code",
      "metadata": {
        "id": "CAjxzLBXR3O6",
        "colab_type": "code",
        "outputId": "90370810-8537-4c30-f1ab-cf830d6d6cd3",
        "colab": {
          "base_uri": "https://localhost:8080/",
          "height": 34
        }
      },
      "source": [
        "print(a.shape,a_train.shape,a_test.shape)"
      ],
      "execution_count": 20,
      "outputs": [
        {
          "output_type": "stream",
          "text": [
            "(569, 30) (426, 30) (143, 30)\n"
          ],
          "name": "stdout"
        }
      ]
    },
    {
      "cell_type": "markdown",
      "metadata": {
        "id": "7AEpg2rsSYDI",
        "colab_type": "text"
      },
      "source": [
        "here 80% : 20% has been done ; train:test"
      ]
    },
    {
      "cell_type": "markdown",
      "metadata": {
        "id": "PhLYWyCPckeg",
        "colab_type": "text"
      },
      "source": [
        "to modify the % of test and train data do the following:"
      ]
    },
    {
      "cell_type": "code",
      "metadata": {
        "id": "hDSVqFJVSOrp",
        "colab_type": "code",
        "colab": {}
      },
      "source": [
        "a_train,a_test,b_train,b_test=train_test_split(a,b,test_size=0.1)\n",
        "  "
      ],
      "execution_count": 0,
      "outputs": []
    },
    {
      "cell_type": "code",
      "metadata": {
        "id": "KinleM65ciTL",
        "colab_type": "code",
        "outputId": "b0ab2132-8e4c-4b96-a9d0-fe8bb0dae704",
        "colab": {
          "base_uri": "https://localhost:8080/",
          "height": 34
        }
      },
      "source": [
        "print(a.shape,a_train.shape,a_test.shape)"
      ],
      "execution_count": 22,
      "outputs": [
        {
          "output_type": "stream",
          "text": [
            "(569, 30) (512, 30) (57, 30)\n"
          ],
          "name": "stdout"
        }
      ]
    },
    {
      "cell_type": "markdown",
      "metadata": {
        "id": "09un7y0ac66Y",
        "colab_type": "text"
      },
      "source": [
        "here 10% i.e. 0.1 have been taken into test "
      ]
    },
    {
      "cell_type": "code",
      "metadata": {
        "id": "PFypQWpzcz-V",
        "colab_type": "code",
        "outputId": "e5b1ba5a-17fe-440d-81ae-7c47c22b121b",
        "colab": {
          "base_uri": "https://localhost:8080/",
          "height": 34
        }
      },
      "source": [
        "print(b.shape,b_train.shape,b_test.shape)"
      ],
      "execution_count": 23,
      "outputs": [
        {
          "output_type": "stream",
          "text": [
            "(569,) (512,) (57,)\n"
          ],
          "name": "stdout"
        }
      ]
    },
    {
      "cell_type": "markdown",
      "metadata": {
        "id": "W2Ty8JYfdSbU",
        "colab_type": "text"
      },
      "source": [
        "since it contains only whether cancer or not.."
      ]
    },
    {
      "cell_type": "code",
      "metadata": {
        "id": "NxWbEu4gdPAz",
        "colab_type": "code",
        "outputId": "6d2266a8-88ae-4050-e738-2c30a535d2bc",
        "colab": {
          "base_uri": "https://localhost:8080/",
          "height": 34
        }
      },
      "source": [
        "print(b.mean(),b_train.mean(),b_test.mean())"
      ],
      "execution_count": 24,
      "outputs": [
        {
          "output_type": "stream",
          "text": [
            "0.6274165202108963 0.623046875 0.6666666666666666\n"
          ],
          "name": "stdout"
        }
      ]
    },
    {
      "cell_type": "markdown",
      "metadata": {
        "id": "fSzUsLaWe1Vi",
        "colab_type": "text"
      },
      "source": [
        "here it shows that the ratio of malignant and benign data are different among all the three hence to maitain ratios among all of them do the following:"
      ]
    },
    {
      "cell_type": "code",
      "metadata": {
        "id": "-UFN6Z1KeYGK",
        "colab_type": "code",
        "colab": {}
      },
      "source": [
        "a_train,a_test,b_train,b_test=train_test_split(a,b,test_size=0.1,stratify=b)"
      ],
      "execution_count": 0,
      "outputs": []
    },
    {
      "cell_type": "code",
      "metadata": {
        "id": "h3kk3nllgVut",
        "colab_type": "code",
        "outputId": "417102aa-496c-468a-8154-4592dcfc6b4b",
        "colab": {
          "base_uri": "https://localhost:8080/",
          "height": 1634
        }
      },
      "source": [
        "print(a.mean(),a_train.mean(),a_test.mean())"
      ],
      "execution_count": 26,
      "outputs": [
        {
          "output_type": "stream",
          "text": [
            "mean radius                 14.127292\n",
            "mean texture                19.289649\n",
            "mean perimeter              91.969033\n",
            "mean area                  654.889104\n",
            "mean smoothness              0.096360\n",
            "mean compactness             0.104341\n",
            "mean concavity               0.088799\n",
            "mean concave points          0.048919\n",
            "mean symmetry                0.181162\n",
            "mean fractal dimension       0.062798\n",
            "radius error                 0.405172\n",
            "texture error                1.216853\n",
            "perimeter error              2.866059\n",
            "area error                  40.337079\n",
            "smoothness error             0.007041\n",
            "compactness error            0.025478\n",
            "concavity error              0.031894\n",
            "concave points error         0.011796\n",
            "symmetry error               0.020542\n",
            "fractal dimension error      0.003795\n",
            "worst radius                16.269190\n",
            "worst texture               25.677223\n",
            "worst perimeter            107.261213\n",
            "worst area                 880.583128\n",
            "worst smoothness             0.132369\n",
            "worst compactness            0.254265\n",
            "worst concavity              0.272188\n",
            "worst concave points         0.114606\n",
            "worst symmetry               0.290076\n",
            "worst fractal dimension      0.083946\n",
            "dtype: float64 mean radius                 14.149545\n",
            "mean texture                19.190781\n",
            "mean perimeter              92.108359\n",
            "mean area                  656.172656\n",
            "mean smoothness              0.096216\n",
            "mean compactness             0.104232\n",
            "mean concavity               0.088653\n",
            "mean concave points          0.048749\n",
            "mean symmetry                0.180931\n",
            "mean fractal dimension       0.062765\n",
            "radius error                 0.401755\n",
            "texture error                1.212965\n",
            "perimeter error              2.842904\n",
            "area error                  39.770420\n",
            "smoothness error             0.007039\n",
            "compactness error            0.025936\n",
            "concavity error              0.032437\n",
            "concave points error         0.011923\n",
            "symmetry error               0.020534\n",
            "fractal dimension error      0.003846\n",
            "worst radius                16.288707\n",
            "worst texture               25.538281\n",
            "worst perimeter            107.394805\n",
            "worst area                 881.994922\n",
            "worst smoothness             0.132172\n",
            "worst compactness            0.254560\n",
            "worst concavity              0.272169\n",
            "worst concave points         0.114686\n",
            "worst symmetry               0.289391\n",
            "worst fractal dimension      0.083832\n",
            "dtype: float64 mean radius                 13.927404\n",
            "mean texture                20.177719\n",
            "mean perimeter              90.717544\n",
            "mean area                  643.359649\n",
            "mean smoothness              0.097657\n",
            "mean compactness             0.105324\n",
            "mean concavity               0.090114\n",
            "mean concave points          0.050447\n",
            "mean symmetry                0.183239\n",
            "mean fractal dimension       0.063090\n",
            "radius error                 0.435868\n",
            "texture error                1.251777\n",
            "perimeter error              3.074051\n",
            "area error                  45.427070\n",
            "smoothness error             0.007061\n",
            "compactness error            0.021365\n",
            "concavity error              0.027013\n",
            "concave points error         0.010658\n",
            "symmetry error               0.020617\n",
            "fractal dimension error      0.003334\n",
            "worst radius                16.093877\n",
            "worst texture               26.925263\n",
            "worst perimeter            106.061228\n",
            "worst area                 867.901754\n",
            "worst smoothness             0.134137\n",
            "worst compactness            0.251615\n",
            "worst concavity              0.272366\n",
            "worst concave points         0.113889\n",
            "worst symmetry               0.296228\n",
            "worst fractal dimension      0.084964\n",
            "dtype: float64\n"
          ],
          "name": "stdout"
        }
      ]
    },
    {
      "cell_type": "code",
      "metadata": {
        "id": "D7L6kwrwgtmi",
        "colab_type": "code",
        "colab": {}
      },
      "source": [
        "a_train,a_test,b_train,b_test=train_test_split(a,b,test_size=0.1,stratify=b,random_state=1)"
      ],
      "execution_count": 0,
      "outputs": []
    },
    {
      "cell_type": "code",
      "metadata": {
        "id": "LyWH1CiTj6Tx",
        "colab_type": "code",
        "outputId": "5c8a87b9-3732-433f-d5e2-f20f97dd4d46",
        "colab": {
          "base_uri": "https://localhost:8080/",
          "height": 1634
        }
      },
      "source": [
        "print(a.mean(),a_train.mean(),a_test.mean())"
      ],
      "execution_count": 28,
      "outputs": [
        {
          "output_type": "stream",
          "text": [
            "mean radius                 14.127292\n",
            "mean texture                19.289649\n",
            "mean perimeter              91.969033\n",
            "mean area                  654.889104\n",
            "mean smoothness              0.096360\n",
            "mean compactness             0.104341\n",
            "mean concavity               0.088799\n",
            "mean concave points          0.048919\n",
            "mean symmetry                0.181162\n",
            "mean fractal dimension       0.062798\n",
            "radius error                 0.405172\n",
            "texture error                1.216853\n",
            "perimeter error              2.866059\n",
            "area error                  40.337079\n",
            "smoothness error             0.007041\n",
            "compactness error            0.025478\n",
            "concavity error              0.031894\n",
            "concave points error         0.011796\n",
            "symmetry error               0.020542\n",
            "fractal dimension error      0.003795\n",
            "worst radius                16.269190\n",
            "worst texture               25.677223\n",
            "worst perimeter            107.261213\n",
            "worst area                 880.583128\n",
            "worst smoothness             0.132369\n",
            "worst compactness            0.254265\n",
            "worst concavity              0.272188\n",
            "worst concave points         0.114606\n",
            "worst symmetry               0.290076\n",
            "worst fractal dimension      0.083946\n",
            "dtype: float64 mean radius                 14.058656\n",
            "mean texture                19.309668\n",
            "mean perimeter              91.530488\n",
            "mean area                  648.097266\n",
            "mean smoothness              0.096568\n",
            "mean compactness             0.105144\n",
            "mean concavity               0.089342\n",
            "mean concave points          0.048892\n",
            "mean symmetry                0.181961\n",
            "mean fractal dimension       0.062979\n",
            "radius error                 0.403659\n",
            "texture error                1.206856\n",
            "perimeter error              2.861173\n",
            "area error                  39.935506\n",
            "smoothness error             0.007067\n",
            "compactness error            0.025681\n",
            "concavity error              0.032328\n",
            "concave points error         0.011963\n",
            "symmetry error               0.020584\n",
            "fractal dimension error      0.003815\n",
            "worst radius                16.194275\n",
            "worst texture               25.644902\n",
            "worst perimeter            106.757715\n",
            "worst area                 871.647852\n",
            "worst smoothness             0.132592\n",
            "worst compactness            0.257415\n",
            "worst concavity              0.275623\n",
            "worst concave points         0.115454\n",
            "worst symmetry               0.291562\n",
            "worst fractal dimension      0.084402\n",
            "dtype: float64 mean radius                 14.743807\n",
            "mean texture                19.109825\n",
            "mean perimeter              95.908246\n",
            "mean area                  715.896491\n",
            "mean smoothness              0.094496\n",
            "mean compactness             0.097130\n",
            "mean concavity               0.083923\n",
            "mean concave points          0.049159\n",
            "mean symmetry                0.173981\n",
            "mean fractal dimension       0.061169\n",
            "radius error                 0.418767\n",
            "texture error                1.306656\n",
            "perimeter error              2.909946\n",
            "area error                  43.944193\n",
            "smoothness error             0.006809\n",
            "compactness error            0.023659\n",
            "concavity error              0.027989\n",
            "concave points error         0.010293\n",
            "symmetry error               0.020169\n",
            "fractal dimension error      0.003618\n",
            "worst radius                16.942105\n",
            "worst texture               25.967544\n",
            "worst perimeter            111.783860\n",
            "worst area                 960.843860\n",
            "worst smoothness             0.130357\n",
            "worst compactness            0.225973\n",
            "worst concavity              0.241340\n",
            "worst concave points         0.106994\n",
            "worst symmetry               0.276719\n",
            "worst fractal dimension      0.079852\n",
            "dtype: float64\n"
          ],
          "name": "stdout"
        }
      ]
    },
    {
      "cell_type": "markdown",
      "metadata": {
        "id": "Di9n9ZTRj7Xb",
        "colab_type": "text"
      },
      "source": [
        "#Binarisation of input"
      ]
    },
    {
      "cell_type": "markdown",
      "metadata": {
        "id": "_DTxqEzJk0cv",
        "colab_type": "text"
      },
      "source": [
        "Before binarising plot the graphs to get an idea"
      ]
    },
    {
      "cell_type": "code",
      "metadata": {
        "id": "3MNMPyaIkViQ",
        "colab_type": "code",
        "outputId": "ddbd7dd6-bad1-43ff-9bb8-dbbdfd8fa9f1",
        "colab": {
          "base_uri": "https://localhost:8080/",
          "height": 158
        }
      },
      "source": [
        "pip install matplotlib"
      ],
      "execution_count": 29,
      "outputs": [
        {
          "output_type": "stream",
          "text": [
            "Requirement already satisfied: matplotlib in /usr/local/lib/python3.6/dist-packages (3.0.3)\n",
            "Requirement already satisfied: kiwisolver>=1.0.1 in /usr/local/lib/python3.6/dist-packages (from matplotlib) (1.1.0)\n",
            "Requirement already satisfied: pyparsing!=2.0.4,!=2.1.2,!=2.1.6,>=2.0.1 in /usr/local/lib/python3.6/dist-packages (from matplotlib) (2.4.0)\n",
            "Requirement already satisfied: python-dateutil>=2.1 in /usr/local/lib/python3.6/dist-packages (from matplotlib) (2.5.3)\n",
            "Requirement already satisfied: numpy>=1.10.0 in /usr/local/lib/python3.6/dist-packages (from matplotlib) (1.16.3)\n",
            "Requirement already satisfied: cycler>=0.10 in /usr/local/lib/python3.6/dist-packages (from matplotlib) (0.10.0)\n",
            "Requirement already satisfied: setuptools in /usr/local/lib/python3.6/dist-packages (from kiwisolver>=1.0.1->matplotlib) (41.0.1)\n",
            "Requirement already satisfied: six>=1.5 in /usr/local/lib/python3.6/dist-packages (from python-dateutil>=2.1->matplotlib) (1.12.0)\n"
          ],
          "name": "stdout"
        }
      ]
    },
    {
      "cell_type": "code",
      "metadata": {
        "id": "BTbfFEvZkqjX",
        "colab_type": "code",
        "colab": {}
      },
      "source": [
        "import matplotlib.pyplot as plt"
      ],
      "execution_count": 0,
      "outputs": []
    },
    {
      "cell_type": "code",
      "metadata": {
        "id": "SUxFGWcHmEnn",
        "colab_type": "code",
        "outputId": "925e9425-beae-4399-f6d4-d927642d6b1e",
        "colab": {
          "base_uri": "https://localhost:8080/",
          "height": 268
        }
      },
      "source": [
        "plt.plot(a_train,'*')\n",
        "plt.show()"
      ],
      "execution_count": 31,
      "outputs": [
        {
          "output_type": "display_data",
          "data": {
            "image/png": "[encoded data removed]",
            "text/plain": [
              "<Figure size 432x288 with 1 Axes>"
            ]
          },
          "metadata": {
            "tags": []
          }
        }
      ]
    },
    {
      "cell_type": "markdown",
      "metadata": {
        "id": "r3mMAwMs7TzA",
        "colab_type": "text"
      },
      "source": [
        "Since it's not easy to understand the plot, transpose has been taken."
      ]
    },
    {
      "cell_type": "code",
      "metadata": {
        "id": "lIRpYxa6mfFb",
        "colab_type": "code",
        "colab": {
          "base_uri": "https://localhost:8080/",
          "height": 376
        },
        "outputId": "7e6cee8a-f9e4-41df-c390-308770137570"
      },
      "source": [
        "plt.plot(a_train.T,'*')\n",
        "plt.xticks(rotation='vertical')\n",
        "plt.show()"
      ],
      "execution_count": 33,
      "outputs": [
        {
          "output_type": "display_data",
          "data": {
            "image/png": "[encoded data removed]",
            "text/plain": [
              "<Figure size 432x288 with 1 Axes>"
            ]
          },
          "metadata": {
            "tags": []
          }
        }
      ]
    },
    {
      "cell_type": "markdown",
      "metadata": {
        "id": "VuxpE04t9GAU",
        "colab_type": "text"
      },
      "source": [
        "#### manual way of binarising"
      ]
    },
    {
      "cell_type": "markdown",
      "metadata": {
        "id": "E9y8eAa672cd",
        "colab_type": "text"
      },
      "source": [
        "Binarise 'mean area' about 1000  i.e. everything below 1000 is 0 and above 1000 is 1. It's a randomnly chosen value. You can take mean/median etc."
      ]
    },
    {
      "cell_type": "code",
      "metadata": {
        "id": "VZ6Pq3sQ8DYu",
        "colab_type": "code",
        "colab": {}
      },
      "source": [
        "a_binarise=a_train['mean area'].map(lambda x:0 if x<1000 else 1)"
      ],
      "execution_count": 0,
      "outputs": []
    },
    {
      "cell_type": "code",
      "metadata": {
        "id": "UwAuEob88ntK",
        "colab_type": "code",
        "colab": {
          "base_uri": "https://localhost:8080/",
          "height": 277
        },
        "outputId": "96483c30-728d-4431-e530-27577adb0e20"
      },
      "source": [
        "plt.plot(a_binarise.T,'*')\n",
        "plt.xticks(rotation='vertical')\n",
        "plt.show()"
      ],
      "execution_count": 35,
      "outputs": [
        {
          "output_type": "display_data",
          "data": {
            "image/png": "[encoded data removed]",
            "text/plain": [
              "<Figure size 432x288 with 1 Axes>"
            ]
          },
          "metadata": {
            "tags": []
          }
        }
      ]
    },
    {
      "cell_type": "markdown",
      "metadata": {
        "id": "Vd8UH1l99W_9",
        "colab_type": "text"
      },
      "source": [
        "Instead of manually studying the plot and binarising column wise, use the below method:"
      ]
    },
    {
      "cell_type": "markdown",
      "metadata": {
        "id": "n190KcP79KVS",
        "colab_type": "text"
      },
      "source": [
        "#### using pandas lib function to binarise (pd.cut)"
      ]
    },
    {
      "cell_type": "code",
      "metadata": {
        "id": "up-5vkl-9RPK",
        "colab_type": "code",
        "colab": {}
      },
      "source": [
        "a_bin_train=a_train.apply(pd.cut, bins=2, labels=[1,0])   #bins= discrete intervals. #it was initially [0,1] , after checking the accuracy these have been flipped"
      ],
      "execution_count": 0,
      "outputs": []
    },
    {
      "cell_type": "code",
      "metadata": {
        "id": "DpxndVvw-LKG",
        "colab_type": "code",
        "colab": {
          "base_uri": "https://localhost:8080/",
          "height": 376
        },
        "outputId": "78611f41-8eae-4425-89b1-d7317eb7b40d"
      },
      "source": [
        "plt.plot(a_bin_train.T,'*')\n",
        "plt.xticks(rotation='vertical')\n",
        "plt.show()"
      ],
      "execution_count": 111,
      "outputs": [
        {
          "output_type": "display_data",
          "data": {
            "image/png": "[encoded data removed]",
            "text/plain": [
              "<Figure size 432x288 with 1 Axes>"
            ]
          },
          "metadata": {
            "tags": []
          }
        }
      ]
    },
    {
      "cell_type": "code",
      "metadata": {
        "id": "gar58dfH-ZBT",
        "colab_type": "code",
        "colab": {}
      },
      "source": [
        "a_bin_test=a_test.apply(pd.cut, bins=2, labels=[1,0])   #it was initially [0,1] , after checking the accuracy these have been flipped"
      ],
      "execution_count": 0,
      "outputs": []
    },
    {
      "cell_type": "code",
      "metadata": {
        "id": "G1VKtamp-qgk",
        "colab_type": "code",
        "colab": {
          "base_uri": "https://localhost:8080/",
          "height": 376
        },
        "outputId": "60c7df07-3650-4635-bc03-a36d8afe7abb"
      },
      "source": [
        "plt.plot(a_bin_test.T,'*')\n",
        "plt.xticks(rotation='vertical')\n",
        "plt.show()"
      ],
      "execution_count": 113,
      "outputs": [
        {
          "output_type": "display_data",
          "data": {
            "image/png": "[encoded data removed]",
            "text/plain": [
              "<Figure size 432x288 with 1 Axes>"
            ]
          },
          "metadata": {
            "tags": []
          }
        }
      ]
    },
    {
      "cell_type": "markdown",
      "metadata": {
        "id": "5oUeRc2e_PWK",
        "colab_type": "text"
      },
      "source": [
        "Convert the pandas dataframe to numpy array so as to apply model on it."
      ]
    },
    {
      "cell_type": "code",
      "metadata": {
        "id": "xa8X-GTK-5Sk",
        "colab_type": "code",
        "colab": {}
      },
      "source": [
        "a_bin_train=a_bin_train.values\n",
        "a_bin_test=a_bin_test.values"
      ],
      "execution_count": 0,
      "outputs": []
    },
    {
      "cell_type": "code",
      "metadata": {
        "id": "PzI2NGpN_mQC",
        "colab_type": "code",
        "colab": {
          "base_uri": "https://localhost:8080/",
          "height": 34
        },
        "outputId": "08b29dfa-3da5-4963-c524-64c39558ea73"
      },
      "source": [
        "type(a_bin_test)"
      ],
      "execution_count": 42,
      "outputs": [
        {
          "output_type": "execute_result",
          "data": {
            "text/plain": [
              "numpy.ndarray"
            ]
          },
          "metadata": {
            "tags": []
          },
          "execution_count": 42
        }
      ]
    },
    {
      "cell_type": "markdown",
      "metadata": {
        "id": "GXJkiQrH_zPm",
        "colab_type": "text"
      },
      "source": [
        "#MP Neuron model"
      ]
    },
    {
      "cell_type": "markdown",
      "metadata": {
        "id": "mYnJxw1JAz5t",
        "colab_type": "text"
      },
      "source": [
        "inference and search(on training dataset)"
      ]
    },
    {
      "cell_type": "markdown",
      "metadata": {
        "id": "gbGnNhGWEeB6",
        "colab_type": "text"
      },
      "source": [
        "0 - benign ; 1 - malignant"
      ]
    },
    {
      "cell_type": "code",
      "metadata": {
        "id": "2ShQHQr8_p_t",
        "colab_type": "code",
        "colab": {
          "base_uri": "https://localhost:8080/",
          "height": 34
        },
        "outputId": "59af2251-9ea7-4ee4-b690-0f00d5e92410"
      },
      "source": [
        "b=3   #random threshold value\n",
        "i=50 #50th data point\n",
        "\n",
        "if(np.sum(a_bin_train[50,:])>=b):\n",
        "  print(\"inference is malignant\")\n",
        "else:\n",
        "  print(\"inference is benign\")"
      ],
      "execution_count": 69,
      "outputs": [
        {
          "output_type": "stream",
          "text": [
            "inference is benign\n"
          ],
          "name": "stdout"
        }
      ]
    },
    {
      "cell_type": "markdown",
      "metadata": {
        "id": "ZRbeiZGPOFZC",
        "colab_type": "text"
      },
      "source": [
        "this implies that the value is < b i.e. the label=0 "
      ]
    },
    {
      "cell_type": "code",
      "metadata": {
        "id": "gLMOIF5lBWA1",
        "colab_type": "code",
        "colab": {
          "base_uri": "https://localhost:8080/",
          "height": 34
        },
        "outputId": "fcf8e725-acc4-4845-df1a-1a925d1d33c7"
      },
      "source": [
        "b=3   #random threshold value\n",
        "i=50 #50th data point\n",
        "\n",
        "if(np.sum(b_train[i]==1)):\n",
        "  print(\"inference is malignant\")\n",
        "else:\n",
        "  print(\"inference is benign\")"
      ],
      "execution_count": 67,
      "outputs": [
        {
          "output_type": "stream",
          "text": [
            "inference is malignant\n"
          ],
          "name": "stdout"
        }
      ]
    },
    {
      "cell_type": "markdown",
      "metadata": {
        "id": "GJOVDDULOXpU",
        "colab_type": "text"
      },
      "source": [
        "but here the label for 50th data pt is 1.  Let's try for i = say 100"
      ]
    },
    {
      "cell_type": "markdown",
      "metadata": {
        "id": "ldXZ6xJLMXVU",
        "colab_type": "text"
      },
      "source": [
        ""
      ]
    },
    {
      "cell_type": "code",
      "metadata": {
        "id": "o80vgsUhC3rb",
        "colab_type": "code",
        "colab": {
          "base_uri": "https://localhost:8080/",
          "height": 34
        },
        "outputId": "847dde3a-58a7-45fb-8e84-047983e69cfb"
      },
      "source": [
        "b=3   #random threshold value\n",
        "i=100 #100th data point\n",
        "\n",
        "if(np.sum(a_bin_train[100,:])>=b):\n",
        "  print(\"inference is malignant\")\n",
        "else:\n",
        "  print(\"inference is benign\")"
      ],
      "execution_count": 63,
      "outputs": [
        {
          "output_type": "stream",
          "text": [
            "inference is benign\n"
          ],
          "name": "stdout"
        }
      ]
    },
    {
      "cell_type": "code",
      "metadata": {
        "id": "9oXIGaRpMsBy",
        "colab_type": "code",
        "colab": {
          "base_uri": "https://localhost:8080/",
          "height": 34
        },
        "outputId": "81cd2873-7e7f-4de9-83f0-9e080c9e2cbe"
      },
      "source": [
        "b=3   #random threshold value\n",
        "i=100 #100th data point\n",
        "\n",
        "if(np.sum(b_train[i]==1)):\n",
        "  print(\"inference is malignant\")\n",
        "else:\n",
        "  print(\"inference is benign\")"
      ],
      "execution_count": 68,
      "outputs": [
        {
          "output_type": "stream",
          "text": [
            "inference is benign\n"
          ],
          "name": "stdout"
        }
      ]
    },
    {
      "cell_type": "markdown",
      "metadata": {
        "id": "xer5ngISOoZL",
        "colab_type": "text"
      },
      "source": [
        "here it gives correct inference. Since we can't use hit and trial method as many values are there, do as follows:\n"
      ]
    },
    {
      "cell_type": "code",
      "metadata": {
        "id": "Baf9CTBtOxHV",
        "colab_type": "code",
        "colab": {}
      },
      "source": [
        "from random import randint"
      ],
      "execution_count": 0,
      "outputs": []
    },
    {
      "cell_type": "code",
      "metadata": {
        "id": "LAUc9-0dPARC",
        "colab_type": "code",
        "colab": {
          "base_uri": "https://localhost:8080/",
          "height": 70
        },
        "outputId": "e995c062-50b6-4f64-adb9-aa277e50ab33"
      },
      "source": [
        "b=3   #random threshold value\n",
        "i=randint(0,a_bin_train.shape[0]) #shape[0] gives number of rows\n",
        "print('for row ',i)\n",
        "\n",
        "if(np.sum(a_bin_train[100,:])>=b):\n",
        "  print(\"inference is malignant,1\")\n",
        "else:\n",
        "  print(\"inference is benign,0\")\n",
        "  \n",
        "if(np.sum(b_train[i]==1)):\n",
        "  print(\"label is malignant,1\")\n",
        "else:\n",
        "  print(\"label is benign,0\")  \n",
        "  \n",
        " "
      ],
      "execution_count": 74,
      "outputs": [
        {
          "output_type": "stream",
          "text": [
            "for row  149\n",
            "inference is benign,0\n",
            "label is malignant,1\n"
          ],
          "name": "stdout"
        }
      ]
    },
    {
      "cell_type": "markdown",
      "metadata": {
        "id": "_xTPa2DMSBew",
        "colab_type": "text"
      },
      "source": [
        "after running the above code multiple tilmes it's clear that for some cases it's correct while for some it's wrong. So to check the accuracy for a particular b :"
      ]
    },
    {
      "cell_type": "code",
      "metadata": {
        "id": "FiZR9fDXSPVW",
        "colab_type": "code",
        "colab": {
          "base_uri": "https://localhost:8080/",
          "height": 34
        },
        "outputId": "be328d45-1894-4424-b474-efbcbf6f3c72"
      },
      "source": [
        "b=3\n",
        "\n",
        "b_pred_train=[]\n",
        "accurate_rows=0\n",
        "\n",
        "for A,B in zip(a_bin_train,b_train):  #zip has been used to iterate over 2 variables simultaneously.\n",
        "  b_pred =(np.sum(A)>=b)\n",
        "  b_pred_train.append(b_pred)\n",
        "  accurate_rows+=(B==b_pred)\n",
        "\n",
        "print(accurate_rows,accurate_rows/a_bin_train.shape[0])"
      ],
      "execution_count": 107,
      "outputs": [
        {
          "output_type": "stream",
          "text": [
            "77 0.150390625\n"
          ],
          "name": "stdout"
        }
      ]
    },
    {
      "cell_type": "markdown",
      "metadata": {
        "id": "BeH3c_QcYJCd",
        "colab_type": "text"
      },
      "source": [
        "Now let's see how it works for various values of b."
      ]
    },
    {
      "cell_type": "markdown",
      "metadata": {
        "id": "gS-xIVdolKMh",
        "colab_type": "text"
      },
      "source": [
        "The range of b is 0 to no. of columns because it can't exceed the no. of columns i.e. 30 here (if all the values of column are 1 then only 30 i.e. max is possible)"
      ]
    },
    {
      "cell_type": "code",
      "metadata": {
        "id": "ti8kB12CseEm",
        "colab_type": "code",
        "colab": {
          "base_uri": "https://localhost:8080/",
          "height": 34
        },
        "outputId": "30f18430-5066-4b12-da36-7bf40a8b73a4"
      },
      "source": [
        "for b in range(a_bin_train.shape[1]+1):\n",
        "  print(b,end=\",\")"
      ],
      "execution_count": 127,
      "outputs": [
        {
          "output_type": "stream",
          "text": [
            "0,1,2,3,4,5,6,7,8,9,10,11,12,13,14,15,16,17,18,19,20,21,22,23,24,25,26,27,28,29,30,"
          ],
          "name": "stdout"
        }
      ]
    },
    {
      "cell_type": "code",
      "metadata": {
        "id": "hzrUcIucU1xt",
        "colab_type": "code",
        "colab": {
          "base_uri": "https://localhost:8080/",
          "height": 567
        },
        "outputId": "6604f023-a25f-4829-c385-7e32b799c2ba"
      },
      "source": [
        "for b in range(a_bin_train.shape[1]+1):\n",
        "  b_pred_train=[]\n",
        "  accurate_rows=0\n",
        "\n",
        "  for A,B in zip(a_bin_train,b_train):  #zip has been used to iterate over 2 variables simultaneously.\n",
        "    b_pred =(np.sum(A)>=b)\n",
        "    b_pred_train.append(b_pred)\n",
        "    accurate_rows+=(B==b_pred)\n",
        "\n",
        "  print(b,accurate_rows/a_bin_train.shape[0])\n",
        "  "
      ],
      "execution_count": 129,
      "outputs": [
        {
          "output_type": "stream",
          "text": [
            "0 0.626953125\n",
            "1 0.626953125\n",
            "2 0.626953125\n",
            "3 0.626953125\n",
            "4 0.626953125\n",
            "5 0.626953125\n",
            "6 0.626953125\n",
            "7 0.626953125\n",
            "8 0.626953125\n",
            "9 0.626953125\n",
            "10 0.626953125\n",
            "11 0.626953125\n",
            "12 0.626953125\n",
            "13 0.626953125\n",
            "14 0.630859375\n",
            "15 0.6328125\n",
            "16 0.642578125\n",
            "17 0.6484375\n",
            "18 0.65625\n",
            "19 0.6640625\n",
            "20 0.671875\n",
            "21 0.6875\n",
            "22 0.701171875\n",
            "23 0.724609375\n",
            "24 0.755859375\n",
            "25 0.78515625\n",
            "26 0.818359375\n",
            "27 0.845703125\n",
            "28 0.849609375\n",
            "29 0.814453125\n",
            "30 0.759765625\n"
          ],
          "name": "stdout"
        }
      ]
    },
    {
      "cell_type": "markdown",
      "metadata": {
        "id": "PXub-GDNjb7g",
        "colab_type": "text"
      },
      "source": [
        "At 0 the accuracy is max. This is because once see the mean values of data groupby. The values of benign is > than malignant in almost all features. Hence we have to flip the labels to inc the accuracy."
      ]
    },
    {
      "cell_type": "markdown",
      "metadata": {
        "id": "-JXPmjVXkQ9X",
        "colab_type": "text"
      },
      "source": [
        "Go back to the binarisation and change [0,1] to [1,0] and re run them."
      ]
    },
    {
      "cell_type": "code",
      "metadata": {
        "id": "oKQtlIPIYp_3",
        "colab_type": "code",
        "colab": {
          "base_uri": "https://localhost:8080/",
          "height": 567
        },
        "outputId": "f4e8d8bb-f4bb-4f6c-b1cb-af5f26f5d925"
      },
      "source": [
        "for b in range(a_bin_train.shape[1] + 1):\n",
        "  b_pred_train=[]\n",
        "  accurate_rows=0\n",
        "\n",
        "  for A,B in zip(a_bin_train,b_train):  #zip has been used to iterate over 2 variables simultaneously.\n",
        "    b_pred =(np.sum(A)>=b)\n",
        "    b_pred_train.append(b_pred)\n",
        "    accurate_rows+=(B==b_pred)\n",
        "\n",
        "  print(b,accurate_rows/a_bin_train.shape[0])"
      ],
      "execution_count": 130,
      "outputs": [
        {
          "output_type": "stream",
          "text": [
            "0 0.626953125\n",
            "1 0.626953125\n",
            "2 0.626953125\n",
            "3 0.626953125\n",
            "4 0.626953125\n",
            "5 0.626953125\n",
            "6 0.626953125\n",
            "7 0.626953125\n",
            "8 0.626953125\n",
            "9 0.626953125\n",
            "10 0.626953125\n",
            "11 0.626953125\n",
            "12 0.626953125\n",
            "13 0.626953125\n",
            "14 0.630859375\n",
            "15 0.6328125\n",
            "16 0.642578125\n",
            "17 0.6484375\n",
            "18 0.65625\n",
            "19 0.6640625\n",
            "20 0.671875\n",
            "21 0.6875\n",
            "22 0.701171875\n",
            "23 0.724609375\n",
            "24 0.755859375\n",
            "25 0.78515625\n",
            "26 0.818359375\n",
            "27 0.845703125\n",
            "28 0.849609375\n",
            "29 0.814453125\n",
            "30 0.759765625\n"
          ],
          "name": "stdout"
        }
      ]
    },
    {
      "cell_type": "markdown",
      "metadata": {
        "id": "spp76WDjkufu",
        "colab_type": "text"
      },
      "source": [
        "Now the accuracy seems to have inc drastically across most of the values of b."
      ]
    },
    {
      "cell_type": "markdown",
      "metadata": {
        "id": "CodRhcAel_P-",
        "colab_type": "text"
      },
      "source": [
        "inference(on test dataset)"
      ]
    },
    {
      "cell_type": "markdown",
      "metadata": {
        "id": "Zr1iVahimUFm",
        "colab_type": "text"
      },
      "source": [
        "Using sklearn metrics accuracy will be calculated. No need to use zip now.."
      ]
    },
    {
      "cell_type": "code",
      "metadata": {
        "id": "pYBCJgycmFN8",
        "colab_type": "code",
        "colab": {}
      },
      "source": [
        "from sklearn.metrics import accuracy_score"
      ],
      "execution_count": 0,
      "outputs": []
    },
    {
      "cell_type": "code",
      "metadata": {
        "id": "pYGYqtuNodR1",
        "colab_type": "code",
        "colab": {
          "base_uri": "https://localhost:8080/",
          "height": 34
        },
        "outputId": "6c633f92-9379-41a5-e221-6ad7215c3c8d"
      },
      "source": [
        "b=28\n",
        "\n",
        "\n",
        "b_pred_test=[]\n",
        "\n",
        "\n",
        "for A in a_bin_test: \n",
        "  b_pred =(np.sum(A)>=b)\n",
        "  b_pred_test.append(b_pred)\n",
        "  \n",
        "accuracy= accuracy_score(b_pred_test,b_test)\n",
        "\n",
        "print(b,accuracy)\n"
      ],
      "execution_count": 119,
      "outputs": [
        {
          "output_type": "stream",
          "text": [
            "28 0.7894736842105263\n"
          ],
          "name": "stdout"
        }
      ]
    },
    {
      "cell_type": "markdown",
      "metadata": {
        "id": "iZNnc_OTppB2",
        "colab_type": "text"
      },
      "source": [
        "This show that b=28 gives more accuracy on training dataset than on testing dataset. This is beyond our control!!\n",
        "Various other value can also be tried to get higher accuracy."
      ]
    }
  ]
}